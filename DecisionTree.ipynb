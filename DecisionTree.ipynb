{
 "cells": [
  {
   "cell_type": "code",
   "execution_count": 1,
   "metadata": {},
   "outputs": [],
   "source": [
    "import pandas as pd\n",
    "import math\n",
    "import numpy as np"
   ]
  },
  {
   "cell_type": "markdown",
   "metadata": {},
   "source": [
    "# TREE CLASS"
   ]
  },
  {
   "cell_type": "code",
   "execution_count": 2,
   "metadata": {},
   "outputs": [],
   "source": [
    "class TreeNode:\n",
    "    def __init__(self):\n",
    "        self.data = None\n",
    "        self.children = None\n",
    "        self.parent = None\n",
    "        self.children_Node = []\n",
    "        "
   ]
  },
  {
   "cell_type": "markdown",
   "metadata": {},
   "source": [
    "# DATASET"
   ]
  },
  {
   "cell_type": "markdown",
   "metadata": {},
   "source": [
    "## Train Dataset"
   ]
  },
  {
   "cell_type": "code",
   "execution_count": 3,
   "metadata": {},
   "outputs": [],
   "source": [
    "dataset = pd.read_excel('dataset.xlsx')"
   ]
  },
  {
   "cell_type": "code",
   "execution_count": 4,
   "metadata": {},
   "outputs": [
    {
     "data": {
      "text/html": [
       "<div>\n",
       "<style scoped>\n",
       "    .dataframe tbody tr th:only-of-type {\n",
       "        vertical-align: middle;\n",
       "    }\n",
       "\n",
       "    .dataframe tbody tr th {\n",
       "        vertical-align: top;\n",
       "    }\n",
       "\n",
       "    .dataframe thead th {\n",
       "        text-align: right;\n",
       "    }\n",
       "</style>\n",
       "<table border=\"1\" class=\"dataframe\">\n",
       "  <thead>\n",
       "    <tr style=\"text-align: right;\">\n",
       "      <th></th>\n",
       "      <th>OUTLOOK</th>\n",
       "      <th>TEMPERATURE</th>\n",
       "      <th>HUMIDITY</th>\n",
       "      <th>WIND</th>\n",
       "      <th>PLAY BALL</th>\n",
       "    </tr>\n",
       "  </thead>\n",
       "  <tbody>\n",
       "    <tr>\n",
       "      <th>0</th>\n",
       "      <td>Sunny</td>\n",
       "      <td>Hot</td>\n",
       "      <td>High</td>\n",
       "      <td>Weak</td>\n",
       "      <td>No</td>\n",
       "    </tr>\n",
       "    <tr>\n",
       "      <th>1</th>\n",
       "      <td>Sunny</td>\n",
       "      <td>Hot</td>\n",
       "      <td>High</td>\n",
       "      <td>Strong</td>\n",
       "      <td>No</td>\n",
       "    </tr>\n",
       "    <tr>\n",
       "      <th>2</th>\n",
       "      <td>Overcast</td>\n",
       "      <td>Hot</td>\n",
       "      <td>High</td>\n",
       "      <td>Weak</td>\n",
       "      <td>Yes</td>\n",
       "    </tr>\n",
       "    <tr>\n",
       "      <th>3</th>\n",
       "      <td>Rain</td>\n",
       "      <td>Mild</td>\n",
       "      <td>High</td>\n",
       "      <td>Weak</td>\n",
       "      <td>Yes</td>\n",
       "    </tr>\n",
       "    <tr>\n",
       "      <th>4</th>\n",
       "      <td>Rain</td>\n",
       "      <td>Cool</td>\n",
       "      <td>Normal</td>\n",
       "      <td>Weak</td>\n",
       "      <td>Yes</td>\n",
       "    </tr>\n",
       "  </tbody>\n",
       "</table>\n",
       "</div>"
      ],
      "text/plain": [
       "    OUTLOOK TEMPERATURE HUMIDITY    WIND PLAY BALL\n",
       "0     Sunny         Hot     High    Weak        No\n",
       "1     Sunny         Hot     High  Strong        No\n",
       "2  Overcast         Hot     High    Weak       Yes\n",
       "3      Rain        Mild     High    Weak       Yes\n",
       "4      Rain        Cool   Normal    Weak       Yes"
      ]
     },
     "execution_count": 4,
     "metadata": {},
     "output_type": "execute_result"
    }
   ],
   "source": [
    "dataset.drop(['DAY'], axis=1,inplace=True)\n",
    "dataset.head()"
   ]
  },
  {
   "cell_type": "code",
   "execution_count": 5,
   "metadata": {},
   "outputs": [],
   "source": [
    "label = list(dataset.columns)[-1]\n",
    "classify = dataset[label].unique()\n",
    "classify_num = dataset[label].value_counts().to_dict()"
   ]
  },
  {
   "cell_type": "code",
   "execution_count": 6,
   "metadata": {},
   "outputs": [],
   "source": [
    "data = dataset.values.tolist()"
   ]
  },
  {
   "cell_type": "markdown",
   "metadata": {},
   "source": [
    "## Prediction Dataset"
   ]
  },
  {
   "cell_type": "code",
   "execution_count": 7,
   "metadata": {},
   "outputs": [
    {
     "data": {
      "text/html": [
       "<div>\n",
       "<style scoped>\n",
       "    .dataframe tbody tr th:only-of-type {\n",
       "        vertical-align: middle;\n",
       "    }\n",
       "\n",
       "    .dataframe tbody tr th {\n",
       "        vertical-align: top;\n",
       "    }\n",
       "\n",
       "    .dataframe thead th {\n",
       "        text-align: right;\n",
       "    }\n",
       "</style>\n",
       "<table border=\"1\" class=\"dataframe\">\n",
       "  <thead>\n",
       "    <tr style=\"text-align: right;\">\n",
       "      <th></th>\n",
       "      <th>DAY</th>\n",
       "      <th>OUTLOOK</th>\n",
       "      <th>TEMPERATURE</th>\n",
       "      <th>HUMIDITY</th>\n",
       "      <th>WIND</th>\n",
       "      <th>PLAY BALL</th>\n",
       "    </tr>\n",
       "  </thead>\n",
       "  <tbody>\n",
       "    <tr>\n",
       "      <th>0</th>\n",
       "      <td>D1</td>\n",
       "      <td>Sunny</td>\n",
       "      <td>Hot</td>\n",
       "      <td>High</td>\n",
       "      <td>Weak</td>\n",
       "      <td>No</td>\n",
       "    </tr>\n",
       "    <tr>\n",
       "      <th>1</th>\n",
       "      <td>D2</td>\n",
       "      <td>Overcast</td>\n",
       "      <td>Mild</td>\n",
       "      <td>Normal</td>\n",
       "      <td>Weak</td>\n",
       "      <td>Yes</td>\n",
       "    </tr>\n",
       "  </tbody>\n",
       "</table>\n",
       "</div>"
      ],
      "text/plain": [
       "  DAY   OUTLOOK TEMPERATURE HUMIDITY  WIND PLAY BALL\n",
       "0  D1     Sunny         Hot     High  Weak        No\n",
       "1  D2  Overcast        Mild   Normal  Weak       Yes"
      ]
     },
     "execution_count": 7,
     "metadata": {},
     "output_type": "execute_result"
    }
   ],
   "source": [
    "df = pd.read_excel(\"prediction.xlsx\")\n",
    "df.head()"
   ]
  },
  {
   "cell_type": "code",
   "execution_count": 8,
   "metadata": {},
   "outputs": [],
   "source": [
    "df = df.drop('DAY', axis=1)\n",
    "otp = df['PLAY BALL']\n",
    "df = df.drop('PLAY BALL', axis = 1)"
   ]
  },
  {
   "cell_type": "markdown",
   "metadata": {},
   "source": [
    "# ALGORITHM"
   ]
  },
  {
   "cell_type": "markdown",
   "metadata": {},
   "source": [
    "## TREE CREATION"
   ]
  },
  {
   "cell_type": "code",
   "execution_count": 9,
   "metadata": {},
   "outputs": [],
   "source": [
    "def createTree(root, dataset, func):\n",
    "    root.data = func(dataset)\n",
    "    if root.data != list(dataset[label].unique())[0]:\n",
    "        root.children = list(dataset[root.data].unique())\n",
    "    if root.children is None or root.data is None:\n",
    "        return None\n",
    "    for col in root.children:\n",
    "        branch = TreeNode()\n",
    "        branch.parent = root\n",
    "        createTree(branch, dataset[dataset[root.data] == col].drop(root.data, axis = 1), func)\n",
    "        root.children_Node.append(branch)\n",
    "    return root"
   ]
  },
  {
   "cell_type": "code",
   "execution_count": 10,
   "metadata": {},
   "outputs": [],
   "source": [
    "def LevelOrderTraversal(root):\n",
    "    if (root == None):\n",
    "        return\n",
    "    q = []\n",
    "    q.append(root)\n",
    "    while (len(q) != 0):\n",
    "        n = len(q)\n",
    "        while (n > 0):\n",
    "            p = q[0]\n",
    "            q.pop(0)\n",
    "            print(p.data+'\\n', end=' ')\n",
    "            print(p.children, end=' ')\n",
    "            for i in range(len(p.children_Node)):\n",
    "                q.append(p.children_Node[i])\n",
    "            n -= 1\n",
    "        print() "
   ]
  },
  {
   "cell_type": "markdown",
   "metadata": {},
   "source": [
    "## ID3 ALGORITHM"
   ]
  },
  {
   "cell_type": "code",
   "execution_count": 11,
   "metadata": {},
   "outputs": [],
   "source": [
    "def entropy_value(df):\n",
    "    classify_num = df[label].value_counts().to_dict()\n",
    "    total = np.sum(list(classify_num.values()))\n",
    "    \n",
    "    nsum = [x*(math.log2(x/total)) for x in list(classify_num.values())]\n",
    "    \n",
    "    result = -1*np.sum(nsum)/total\n",
    "    \n",
    "    return result\n"
   ]
  },
  {
   "cell_type": "code",
   "execution_count": 12,
   "metadata": {},
   "outputs": [],
   "source": [
    "entropy_dataset = entropy_value(dataset)"
   ]
  },
  {
   "cell_type": "code",
   "execution_count": 13,
   "metadata": {},
   "outputs": [],
   "source": [
    "def entropy_attribute(dataset):\n",
    "    \n",
    "    attr = list(dataset.drop([label], axis=1).columns)\n",
    "    total = np.sum(list(classify_num.values()))\n",
    "    gain_dict = {}\n",
    "    for col in attr:\n",
    "        gain_dict[col] = 0\n",
    "    \n",
    "    for col in attr:\n",
    "        entropy = 0\n",
    "        for val in list(dataset[col].unique()):\n",
    "            entropy += (np.sum(dataset[dataset[col] == val][label].value_counts().to_list())/total) * entropy_value(dataset[dataset[col] == val])\n",
    "        gain_dict[col] = entropy_dataset  - entropy\n",
    "    \n",
    "    if len(gain_dict) > 0:\n",
    "        if max(gain_dict.values()) == entropy_dataset:\n",
    "            return list(dataset[label].unique())[0] \n",
    "        else:\n",
    "            return [atr for atr in gain_dict.keys() if gain_dict[atr] == max(gain_dict.values())][0]\n",
    "    return list(dataset[label].unique())[0]\n"
   ]
  },
  {
   "cell_type": "code",
   "execution_count": 14,
   "metadata": {},
   "outputs": [],
   "source": [
    "def ID3_train(dataset):\n",
    "    global root\n",
    "    root = TreeNode()\n",
    "    createTree(root, dataset, entropy_attribute)"
   ]
  },
  {
   "cell_type": "markdown",
   "metadata": {},
   "source": [
    "## GINI INDEX ALGORITHM"
   ]
  },
  {
   "cell_type": "code",
   "execution_count": 15,
   "metadata": {},
   "outputs": [],
   "source": [
    "def gini_value(dataframe):\n",
    "    classify_num = dataframe[label].value_counts().to_dict()\n",
    "    total = np.sum(list(classify_num.values()))\n",
    "    \n",
    "    nsum = [np.square(x/total) for x in list(classify_num.values())]\n",
    "    \n",
    "    result = 1-np.sum(nsum)\n",
    "    \n",
    "    return result\n"
   ]
  },
  {
   "cell_type": "code",
   "execution_count": 16,
   "metadata": {},
   "outputs": [],
   "source": [
    "gini_dataset = gini_value(dataset)"
   ]
  },
  {
   "cell_type": "code",
   "execution_count": 17,
   "metadata": {},
   "outputs": [],
   "source": [
    "def gini_attribute(dataset):\n",
    "    \n",
    "    attr = list(dataset.drop([label], axis=1).columns)\n",
    "    total = np.sum(list(classify_num.values()))\n",
    "    gain_dict = {}\n",
    "    for col in attr:\n",
    "        gain_dict[col] = 0\n",
    "    \n",
    "    for col in attr:\n",
    "        gini = 0\n",
    "        for val in list(dataset[col].unique()):\n",
    "            gini += (np.sum(dataset[dataset[col] == val][label].value_counts().to_list())/total) * gini_value(dataset[dataset[col] == val])\n",
    "        gain_dict[col] = gini\n",
    "    \n",
    "    if len(gain_dict) > 0:\n",
    "        if min(gain_dict.values()) == 0:\n",
    "            return list(dataset[label].unique())[0]\n",
    "        else:\n",
    "            return [atr for atr in gain_dict.keys() if gain_dict[atr] == min(gain_dict.values())][0]\n",
    "    return list(dataset[label].unique())[0]"
   ]
  },
  {
   "cell_type": "code",
   "execution_count": 18,
   "metadata": {},
   "outputs": [],
   "source": [
    "def GINI_train(dataset):\n",
    "    global root\n",
    "    root = TreeNode()\n",
    "    createTree(root, dataset, gini_attribute)"
   ]
  },
  {
   "cell_type": "markdown",
   "metadata": {},
   "source": [
    "## PREDICTION ALGORITHM"
   ]
  },
  {
   "cell_type": "code",
   "execution_count": 19,
   "metadata": {},
   "outputs": [],
   "source": [
    "def prediction(root, df):\n",
    "    if root.data in df.columns:\n",
    "        prev = root\n",
    "        root = root.children_Node[root.children.index(df[root.data].unique()[0])]\n",
    "    else:\n",
    "        return root.data\n",
    "    \n",
    "    return prediction(root, df.drop(prev.data, axis = 1))"
   ]
  },
  {
   "cell_type": "code",
   "execution_count": 20,
   "metadata": {},
   "outputs": [],
   "source": [
    "def predict(df):\n",
    "    y_predict = []\n",
    "    for row in df.iterrows():\n",
    "        y_predict.append(prediction(root,pd.DataFrame(row[1]).T))\n",
    "    return y_predict"
   ]
  },
  {
   "cell_type": "markdown",
   "metadata": {},
   "source": [
    "# MENU DRIVEN PROGRAM"
   ]
  },
  {
   "cell_type": "code",
   "execution_count": 21,
   "metadata": {},
   "outputs": [
    {
     "name": "stdout",
     "output_type": "stream",
     "text": [
      "['No', 'Yes']\n",
      "['No', 'Yes']\n"
     ]
    }
   ],
   "source": [
    "while True:\n",
    "    option = int(input(\"1. Entropy\\n2. Gini Index\"))\n",
    "    if option == 1:\n",
    "        ID3_train(dataset)\n",
    "        print(predict(df))\n",
    "    elif option == 2:\n",
    "        GINI_train(dataset)\n",
    "        print(predict(df))\n",
    "    cont = input(\"Do you want to Continue? (y/n) : \")\n",
    "    if cont == 'n':\n",
    "        break"
   ]
  }
 ],
 "metadata": {
  "kernelspec": {
   "display_name": "Python 3",
   "language": "python",
   "name": "python3"
  },
  "language_info": {
   "codemirror_mode": {
    "name": "ipython",
    "version": 3
   },
   "file_extension": ".py",
   "mimetype": "text/x-python",
   "name": "python",
   "nbconvert_exporter": "python",
   "pygments_lexer": "ipython3",
   "version": "3.12.1"
  }
 },
 "nbformat": 4,
 "nbformat_minor": 2
}
